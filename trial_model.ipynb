{
  "nbformat": 4,
  "nbformat_minor": 0,
  "metadata": {
    "kernelspec": {
      "display_name": "Python 3",
      "language": "python",
      "name": "python3"
    },
    "language_info": {
      "codemirror_mode": {
        "name": "ipython",
        "version": 3
      },
      "file_extension": ".py",
      "mimetype": "text/x-python",
      "name": "python",
      "nbconvert_exporter": "python",
      "pygments_lexer": "ipython3",
      "version": "3.7.6"
    },
    "colab": {
      "name": "trial model.ipynb",
      "provenance": []
    }
  },
  "cells": [
    {
      "cell_type": "code",
      "metadata": {
        "id": "-dw7eecPvIKF"
      },
      "source": [
        "from fastai.tabular import *\n",
        "from fastai.basics import *\n",
        "%matplotlib inline"
      ],
      "execution_count": null,
      "outputs": []
    },
    {
      "cell_type": "code",
      "metadata": {
        "id": "SgR6pXzzvIKM"
      },
      "source": [
        "train_df = pd.read_pickle('data/data_clean')"
      ],
      "execution_count": null,
      "outputs": []
    },
    {
      "cell_type": "code",
      "metadata": {
        "id": "cgXfH6ySvIKN"
      },
      "source": [
        "a=train_df.T[1]"
      ],
      "execution_count": null,
      "outputs": []
    },
    {
      "cell_type": "code",
      "metadata": {
        "id": "P_EhyJuVvIKN",
        "outputId": "5fb73f84-fb83-48c5-e4f9-5f6997b3c564"
      },
      "source": [
        ""
      ],
      "execution_count": null,
      "outputs": [
        {
          "output_type": "execute_result",
          "data": {
            "text/plain": [
              "<function matplotlib.pyplot.plot(*args, scalex=True, scaley=True, data=None, **kwargs)>"
            ]
          },
          "metadata": {
            "tags": []
          },
          "execution_count": 64
        }
      ]
    },
    {
      "cell_type": "code",
      "metadata": {
        "id": "a_82smCtvIKO",
        "outputId": "2bdd80e1-53d9-4d71-8824-8b6a24cb5517"
      },
      "source": [
        "b=a.rename({\"Day\":\"Pollution\"})\n",
        "b.rename('New York')"
      ],
      "execution_count": null,
      "outputs": [
        {
          "output_type": "execute_result",
          "data": {
            "text/plain": [
              "ambient temperature | (C)     13.0000\n",
              " wind speed (m/s)              0.4000\n",
              "Irradiance DHI (W/m2)          0.0000\n",
              "Irradiance DNI(W/m2)           0.0000\n",
              "Sun altitude angle | (deg)   -65.2542\n",
              "Sun azimuth angle(deg)        70.7090\n",
              "DC power(kW)                   0.0000\n",
              "Operating DC voltage(V)        0.0000\n",
              "Month                          1.0000\n",
              "Pollution                      1.0000\n",
              "Hour                           1.0000\n",
              "Name: New York, dtype: float64"
            ]
          },
          "metadata": {
            "tags": []
          },
          "execution_count": 4
        }
      ]
    },
    {
      "cell_type": "code",
      "metadata": {
        "id": "9jqX2A6ivIKP",
        "outputId": "5e3ab569-5c5d-4c09-ddee-38d5e822a348"
      },
      "source": [
        "a.rename(\"New York\")"
      ],
      "execution_count": null,
      "outputs": [
        {
          "output_type": "execute_result",
          "data": {
            "text/plain": [
              "ambient temperature | (C)     13.0000\n",
              " wind speed (m/s)              0.4000\n",
              "Irradiance DHI (W/m2)          0.0000\n",
              "Irradiance DNI(W/m2)           0.0000\n",
              "Sun altitude angle | (deg)   -65.2542\n",
              "Sun azimuth angle(deg)        70.7090\n",
              "DC power(kW)                   0.0000\n",
              "Operating DC voltage(V)        0.0000\n",
              "Month                          1.0000\n",
              "Day                            9.0000\n",
              "Hour                           1.0000\n",
              "Name: New York, dtype: float64"
            ]
          },
          "metadata": {
            "tags": []
          },
          "execution_count": 24
        }
      ]
    },
    {
      "cell_type": "code",
      "metadata": {
        "id": "IM8ANdAWvIKP",
        "outputId": "5597eaec-040d-41f1-c9ae-39815792f603"
      },
      "source": [
        "len(train_df)"
      ],
      "execution_count": null,
      "outputs": [
        {
          "output_type": "execute_result",
          "data": {
            "text/plain": [
              "429240"
            ]
          },
          "metadata": {
            "tags": []
          },
          "execution_count": 5
        }
      ]
    },
    {
      "cell_type": "code",
      "metadata": {
        "id": "mS_Ly4n0vIKQ"
      },
      "source": [
        "copy_df=train_df[train_df['DC power(kW)']!=0]"
      ],
      "execution_count": null,
      "outputs": []
    },
    {
      "cell_type": "code",
      "metadata": {
        "id": "DCej4jIYvIKQ",
        "outputId": "3aea9d1f-810d-41cb-831c-9d67c57de54e"
      },
      "source": [
        "len(copy_df)"
      ],
      "execution_count": null,
      "outputs": [
        {
          "output_type": "execute_result",
          "data": {
            "text/plain": [
              "207387"
            ]
          },
          "metadata": {
            "tags": []
          },
          "execution_count": 7
        }
      ]
    },
    {
      "cell_type": "code",
      "metadata": {
        "id": "7E5Au4LnvIKQ",
        "outputId": "efc2a11d-206f-4f18-addd-39ba7322f0d8"
      },
      "source": [
        "copy_df"
      ],
      "execution_count": null,
      "outputs": [
        {
          "output_type": "execute_result",
          "data": {
            "text/html": [
              "<div>\n",
              "<style scoped>\n",
              "    .dataframe tbody tr th:only-of-type {\n",
              "        vertical-align: middle;\n",
              "    }\n",
              "\n",
              "    .dataframe tbody tr th {\n",
              "        vertical-align: top;\n",
              "    }\n",
              "\n",
              "    .dataframe thead th {\n",
              "        text-align: right;\n",
              "    }\n",
              "</style>\n",
              "<table border=\"1\" class=\"dataframe\">\n",
              "  <thead>\n",
              "    <tr style=\"text-align: right;\">\n",
              "      <th></th>\n",
              "      <th>ambient temperature | (C)</th>\n",
              "      <th>wind speed (m/s)</th>\n",
              "      <th>Irradiance DHI (W/m2)</th>\n",
              "      <th>Irradiance DNI(W/m2)</th>\n",
              "      <th>Sun altitude angle | (deg)</th>\n",
              "      <th>Sun azimuth angle(deg)</th>\n",
              "      <th>DC power(kW)</th>\n",
              "      <th>Operating DC voltage(V)</th>\n",
              "      <th>Month</th>\n",
              "      <th>Day</th>\n",
              "      <th>Hour</th>\n",
              "    </tr>\n",
              "  </thead>\n",
              "  <tbody>\n",
              "    <tr>\n",
              "      <th>9</th>\n",
              "      <td>15</td>\n",
              "      <td>0.2</td>\n",
              "      <td>28</td>\n",
              "      <td>0</td>\n",
              "      <td>24.32370</td>\n",
              "      <td>144.402</td>\n",
              "      <td>0.004690</td>\n",
              "      <td>30.0000</td>\n",
              "      <td>1</td>\n",
              "      <td>1</td>\n",
              "      <td>9</td>\n",
              "    </tr>\n",
              "    <tr>\n",
              "      <th>10</th>\n",
              "      <td>14</td>\n",
              "      <td>0.2</td>\n",
              "      <td>82</td>\n",
              "      <td>0</td>\n",
              "      <td>30.32370</td>\n",
              "      <td>158.399</td>\n",
              "      <td>0.015769</td>\n",
              "      <td>30.0000</td>\n",
              "      <td>1</td>\n",
              "      <td>1</td>\n",
              "      <td>10</td>\n",
              "    </tr>\n",
              "    <tr>\n",
              "      <th>11</th>\n",
              "      <td>12</td>\n",
              "      <td>0.2</td>\n",
              "      <td>52</td>\n",
              "      <td>0</td>\n",
              "      <td>33.29290</td>\n",
              "      <td>174.267</td>\n",
              "      <td>0.009866</td>\n",
              "      <td>30.0000</td>\n",
              "      <td>1</td>\n",
              "      <td>1</td>\n",
              "      <td>11</td>\n",
              "    </tr>\n",
              "    <tr>\n",
              "      <th>12</th>\n",
              "      <td>12</td>\n",
              "      <td>0.3</td>\n",
              "      <td>136</td>\n",
              "      <td>0</td>\n",
              "      <td>32.74950</td>\n",
              "      <td>190.724</td>\n",
              "      <td>0.027535</td>\n",
              "      <td>30.0000</td>\n",
              "      <td>1</td>\n",
              "      <td>1</td>\n",
              "      <td>12</td>\n",
              "    </tr>\n",
              "    <tr>\n",
              "      <th>13</th>\n",
              "      <td>12</td>\n",
              "      <td>0.3</td>\n",
              "      <td>91</td>\n",
              "      <td>0</td>\n",
              "      <td>28.78830</td>\n",
              "      <td>206.120</td>\n",
              "      <td>0.017982</td>\n",
              "      <td>30.0000</td>\n",
              "      <td>1</td>\n",
              "      <td>1</td>\n",
              "      <td>13</td>\n",
              "    </tr>\n",
              "    <tr>\n",
              "      <th>...</th>\n",
              "      <td>...</td>\n",
              "      <td>...</td>\n",
              "      <td>...</td>\n",
              "      <td>...</td>\n",
              "      <td>...</td>\n",
              "      <td>...</td>\n",
              "      <td>...</td>\n",
              "      <td>...</td>\n",
              "      <td>...</td>\n",
              "      <td>...</td>\n",
              "      <td>...</td>\n",
              "    </tr>\n",
              "    <tr>\n",
              "      <th>429227</th>\n",
              "      <td>-10</td>\n",
              "      <td>5.9</td>\n",
              "      <td>144</td>\n",
              "      <td>401</td>\n",
              "      <td>23.69900</td>\n",
              "      <td>173.772</td>\n",
              "      <td>0.112281</td>\n",
              "      <td>34.0768</td>\n",
              "      <td>12</td>\n",
              "      <td>31</td>\n",
              "      <td>11</td>\n",
              "    </tr>\n",
              "    <tr>\n",
              "      <th>429228</th>\n",
              "      <td>-10</td>\n",
              "      <td>5.8</td>\n",
              "      <td>135</td>\n",
              "      <td>438</td>\n",
              "      <td>23.45390</td>\n",
              "      <td>188.822</td>\n",
              "      <td>0.115428</td>\n",
              "      <td>34.0538</td>\n",
              "      <td>12</td>\n",
              "      <td>31</td>\n",
              "      <td>12</td>\n",
              "    </tr>\n",
              "    <tr>\n",
              "      <th>429229</th>\n",
              "      <td>-10</td>\n",
              "      <td>5.8</td>\n",
              "      <td>85</td>\n",
              "      <td>819</td>\n",
              "      <td>20.42180</td>\n",
              "      <td>203.330</td>\n",
              "      <td>0.152344</td>\n",
              "      <td>33.8393</td>\n",
              "      <td>12</td>\n",
              "      <td>31</td>\n",
              "      <td>13</td>\n",
              "    </tr>\n",
              "    <tr>\n",
              "      <th>429230</th>\n",
              "      <td>-10</td>\n",
              "      <td>5.7</td>\n",
              "      <td>69</td>\n",
              "      <td>731</td>\n",
              "      <td>14.95850</td>\n",
              "      <td>216.623</td>\n",
              "      <td>0.111538</td>\n",
              "      <td>34.0393</td>\n",
              "      <td>12</td>\n",
              "      <td>31</td>\n",
              "      <td>14</td>\n",
              "    </tr>\n",
              "    <tr>\n",
              "      <th>429231</th>\n",
              "      <td>-12</td>\n",
              "      <td>5.4</td>\n",
              "      <td>42</td>\n",
              "      <td>530</td>\n",
              "      <td>7.60187</td>\n",
              "      <td>228.492</td>\n",
              "      <td>0.053521</td>\n",
              "      <td>34.2350</td>\n",
              "      <td>12</td>\n",
              "      <td>31</td>\n",
              "      <td>15</td>\n",
              "    </tr>\n",
              "  </tbody>\n",
              "</table>\n",
              "<p>207387 rows × 11 columns</p>\n",
              "</div>"
            ],
            "text/plain": [
              "        ambient temperature | (C)   wind speed (m/s)  Irradiance DHI (W/m2)  \\\n",
              "9                              15                0.2                     28   \n",
              "10                             14                0.2                     82   \n",
              "11                             12                0.2                     52   \n",
              "12                             12                0.3                    136   \n",
              "13                             12                0.3                     91   \n",
              "...                           ...                ...                    ...   \n",
              "429227                        -10                5.9                    144   \n",
              "429228                        -10                5.8                    135   \n",
              "429229                        -10                5.8                     85   \n",
              "429230                        -10                5.7                     69   \n",
              "429231                        -12                5.4                     42   \n",
              "\n",
              "        Irradiance DNI(W/m2)  Sun altitude angle | (deg)  \\\n",
              "9                          0                    24.32370   \n",
              "10                         0                    30.32370   \n",
              "11                         0                    33.29290   \n",
              "12                         0                    32.74950   \n",
              "13                         0                    28.78830   \n",
              "...                      ...                         ...   \n",
              "429227                   401                    23.69900   \n",
              "429228                   438                    23.45390   \n",
              "429229                   819                    20.42180   \n",
              "429230                   731                    14.95850   \n",
              "429231                   530                     7.60187   \n",
              "\n",
              "        Sun azimuth angle(deg)  DC power(kW)  Operating DC voltage(V)  Month  \\\n",
              "9                      144.402      0.004690                  30.0000      1   \n",
              "10                     158.399      0.015769                  30.0000      1   \n",
              "11                     174.267      0.009866                  30.0000      1   \n",
              "12                     190.724      0.027535                  30.0000      1   \n",
              "13                     206.120      0.017982                  30.0000      1   \n",
              "...                        ...           ...                      ...    ...   \n",
              "429227                 173.772      0.112281                  34.0768     12   \n",
              "429228                 188.822      0.115428                  34.0538     12   \n",
              "429229                 203.330      0.152344                  33.8393     12   \n",
              "429230                 216.623      0.111538                  34.0393     12   \n",
              "429231                 228.492      0.053521                  34.2350     12   \n",
              "\n",
              "        Day  Hour  \n",
              "9         1     9  \n",
              "10        1    10  \n",
              "11        1    11  \n",
              "12        1    12  \n",
              "13        1    13  \n",
              "...     ...   ...  \n",
              "429227   31    11  \n",
              "429228   31    12  \n",
              "429229   31    13  \n",
              "429230   31    14  \n",
              "429231   31    15  \n",
              "\n",
              "[207387 rows x 11 columns]"
            ]
          },
          "metadata": {
            "tags": []
          },
          "execution_count": 12
        }
      ]
    },
    {
      "cell_type": "code",
      "metadata": {
        "id": "P9G6CW7kvIKR"
      },
      "source": [
        "procs=[FillMissing, Categorify, Normalize]"
      ],
      "execution_count": null,
      "outputs": []
    },
    {
      "cell_type": "code",
      "metadata": {
        "id": "oH9VDo4EvIKR"
      },
      "source": [
        "cat_vars=['Month','Day','Hour']\n",
        "cont_vars=['ambient temperature | (C)',' wind speed (m/s)','Irradiance DHI (W/m2)',\n",
        "           'Irradiance DNI(W/m2)','Sun altitude angle | (deg)','Sun azimuth angle(deg)']\n",
        "dep_var='DC power(kW)'"
      ],
      "execution_count": null,
      "outputs": []
    },
    {
      "cell_type": "code",
      "metadata": {
        "id": "lWVh7vkgvIKR"
      },
      "source": [
        "df = train_df[cat_vars + cont_vars + [dep_var]].copy()\n",
        "# df = copy_df[cat_vars + cont_vars + [dep_var]].copy()"
      ],
      "execution_count": null,
      "outputs": []
    },
    {
      "cell_type": "code",
      "metadata": {
        "id": "9vm6utRDvIKR"
      },
      "source": [
        "df[dep_var]=df[dep_var]*100 + 0.00001"
      ],
      "execution_count": null,
      "outputs": []
    },
    {
      "cell_type": "code",
      "metadata": {
        "id": "iGKtY5elvIKS",
        "outputId": "ff02517b-d17b-4ad1-8a06-c9a5c6a090ba"
      },
      "source": [
        "np.max(df['DC power(kW)'])"
      ],
      "execution_count": null,
      "outputs": [
        {
          "output_type": "execute_result",
          "data": {
            "text/plain": [
              "0.242373"
            ]
          },
          "metadata": {
            "tags": []
          },
          "execution_count": 289
        }
      ]
    },
    {
      "cell_type": "code",
      "metadata": {
        "id": "oRKXJA_6vIKS"
      },
      "source": [
        "data = (TabularList.from_df(df, path='data', cat_names=cat_vars, cont_names=cont_vars, procs=procs,)\n",
        "                .split_none()\n",
        "                .label_from_df(cols=dep_var)\n",
        "                .databunch())"
      ],
      "execution_count": null,
      "outputs": []
    },
    {
      "cell_type": "code",
      "metadata": {
        "id": "5-W55KWXvIKS",
        "outputId": "64e2479a-64af-4120-e202-3b79267d1c7c"
      },
      "source": [
        "max_y=np.max(train_df[dep_var]*100)*1.1\n",
        "max_y\n"
      ],
      "execution_count": null,
      "outputs": [
        {
          "output_type": "execute_result",
          "data": {
            "text/plain": [
              "26.661030000000004"
            ]
          },
          "metadata": {
            "tags": []
          },
          "execution_count": 33
        }
      ]
    },
    {
      "cell_type": "code",
      "metadata": {
        "id": "tcQ3q091vIKS"
      },
      "source": [
        "y_range = torch.tensor([0, max_y], device=defaults.device)"
      ],
      "execution_count": null,
      "outputs": []
    },
    {
      "cell_type": "code",
      "metadata": {
        "id": "Z4rsfatkvIKT"
      },
      "source": [
        "learn = tabular_learner(data, layers=[1000,500], ps=[0.001,0.01], emb_drop=0.04, \n",
        "                        y_range=y_range, metrics=rmse)"
      ],
      "execution_count": null,
      "outputs": []
    },
    {
      "cell_type": "code",
      "metadata": {
        "id": "35Td97b4vIKT",
        "outputId": "3dcbcbd5-c59b-4bc7-deb9-bf3a674eea52"
      },
      "source": [
        "learn.summary()"
      ],
      "execution_count": null,
      "outputs": [
        {
          "output_type": "execute_result",
          "data": {
            "text/plain": [
              "TabularModel\n",
              "======================================================================\n",
              "Layer (type)         Output Shape         Param #    Trainable \n",
              "======================================================================\n",
              "Embedding            [7]                  91         True      \n",
              "______________________________________________________________________\n",
              "Embedding            [11]                 352        True      \n",
              "______________________________________________________________________\n",
              "Embedding            [8]                  136        True      \n",
              "______________________________________________________________________\n",
              "Dropout              [26]                 0          False     \n",
              "______________________________________________________________________\n",
              "BatchNorm1d          [6]                  12         True      \n",
              "______________________________________________________________________\n",
              "Linear               [1000]               33,000     True      \n",
              "______________________________________________________________________\n",
              "ReLU                 [1000]               0          False     \n",
              "______________________________________________________________________\n",
              "BatchNorm1d          [1000]               2,000      True      \n",
              "______________________________________________________________________\n",
              "Dropout              [1000]               0          False     \n",
              "______________________________________________________________________\n",
              "Linear               [500]                500,500    True      \n",
              "______________________________________________________________________\n",
              "ReLU                 [500]                0          False     \n",
              "______________________________________________________________________\n",
              "BatchNorm1d          [500]                1,000      True      \n",
              "______________________________________________________________________\n",
              "Dropout              [500]                0          False     \n",
              "______________________________________________________________________\n",
              "Linear               [1]                  501        True      \n",
              "______________________________________________________________________\n",
              "\n",
              "Total params: 537,592\n",
              "Total trainable params: 537,592\n",
              "Total non-trainable params: 0\n",
              "Optimized with 'torch.optim.adam.Adam', betas=(0.9, 0.99)\n",
              "Using true weight decay as discussed in https://www.fast.ai/2018/07/02/adam-weight-decay/ \n",
              "Loss function : FlattenedLoss\n",
              "======================================================================\n",
              "Callbacks functions applied "
            ]
          },
          "metadata": {
            "tags": []
          },
          "execution_count": 22
        }
      ]
    },
    {
      "cell_type": "code",
      "metadata": {
        "id": "9qGEprTxvIKT",
        "outputId": "1a192a6e-1899-4270-d809-c9e9210b6cec"
      },
      "source": [
        "learn.lr_find()"
      ],
      "execution_count": null,
      "outputs": [
        {
          "output_type": "display_data",
          "data": {
            "text/html": [
              "\n",
              "    <div>\n",
              "        <style>\n",
              "            /* Turns off some styling */\n",
              "            progress {\n",
              "                /* gets rid of default border in Firefox and Opera. */\n",
              "                border: none;\n",
              "                /* Needs to be in here for Safari polyfill so background images work as expected. */\n",
              "                background-size: auto;\n",
              "            }\n",
              "            .progress-bar-interrupted, .progress-bar-interrupted::-webkit-progress-bar {\n",
              "                background: #F44336;\n",
              "            }\n",
              "        </style>\n",
              "      <progress value='0' class='' max='1', style='width:300px; height:20px; vertical-align: middle;'></progress>\n",
              "      0.00% [0/1 00:00<00:00]\n",
              "    </div>\n",
              "    \n",
              "<table border=\"1\" class=\"dataframe\">\n",
              "  <thead>\n",
              "    <tr style=\"text-align: left;\">\n",
              "      <th>epoch</th>\n",
              "      <th>train_loss</th>\n",
              "      <th>valid_loss</th>\n",
              "      <th>root_mean_squared_error</th>\n",
              "      <th>time</th>\n",
              "    </tr>\n",
              "  </thead>\n",
              "  <tbody>\n",
              "  </tbody>\n",
              "</table><p>\n",
              "\n",
              "    <div>\n",
              "        <style>\n",
              "            /* Turns off some styling */\n",
              "            progress {\n",
              "                /* gets rid of default border in Firefox and Opera. */\n",
              "                border: none;\n",
              "                /* Needs to be in here for Safari polyfill so background images work as expected. */\n",
              "                background-size: auto;\n",
              "            }\n",
              "            .progress-bar-interrupted, .progress-bar-interrupted::-webkit-progress-bar {\n",
              "                background: #F44336;\n",
              "            }\n",
              "        </style>\n",
              "      <progress value='64' class='' max='3240', style='width:300px; height:20px; vertical-align: middle;'></progress>\n",
              "      1.98% [64/3240 00:00<00:37 0.3234]\n",
              "    </div>\n",
              "    "
            ],
            "text/plain": [
              "<IPython.core.display.HTML object>"
            ]
          },
          "metadata": {
            "tags": []
          }
        },
        {
          "output_type": "stream",
          "text": [
            "LR Finder is complete, type {learner_name}.recorder.plot() to see the graph.\n"
          ],
          "name": "stdout"
        }
      ]
    },
    {
      "cell_type": "code",
      "metadata": {
        "id": "FM8QS_ZwvIKT",
        "outputId": "63df3001-00f4-4cf8-c8c2-9b52578dc8ab"
      },
      "source": [
        "learn.recorder.plot()"
      ],
      "execution_count": null,
      "outputs": [
        {
          "output_type": "display_data",
          "data": {
            "image/png": "[encoded data removed]",
            "text/plain": [
              "<Figure size 432x288 with 1 Axes>"
            ]
          },
          "metadata": {
            "tags": [],
            "needs_background": "light"
          }
        }
      ]
    },
    {
      "cell_type": "code",
      "metadata": {
        "id": "es-2fol8vIKU",
        "outputId": "61472706-776e-4777-a1d4-679610485d24"
      },
      "source": [
        "learn.fit_one_cycle(10, 5e-3, wd=0.)"
      ],
      "execution_count": null,
      "outputs": [
        {
          "output_type": "display_data",
          "data": {
            "text/html": [
              "<table border=\"1\" class=\"dataframe\">\n",
              "  <thead>\n",
              "    <tr style=\"text-align: left;\">\n",
              "      <th>epoch</th>\n",
              "      <th>train_loss</th>\n",
              "      <th>valid_loss</th>\n",
              "      <th>root_mean_squared_error</th>\n",
              "      <th>time</th>\n",
              "    </tr>\n",
              "  </thead>\n",
              "  <tbody>\n",
              "    <tr>\n",
              "      <td>0</td>\n",
              "      <td>1.059747</td>\n",
              "      <td>#na#</td>\n",
              "      <td>00:20</td>\n",
              "    </tr>\n",
              "    <tr>\n",
              "      <td>1</td>\n",
              "      <td>0.696551</td>\n",
              "      <td>#na#</td>\n",
              "      <td>00:20</td>\n",
              "    </tr>\n",
              "    <tr>\n",
              "      <td>2</td>\n",
              "      <td>0.781415</td>\n",
              "      <td>#na#</td>\n",
              "      <td>00:20</td>\n",
              "    </tr>\n",
              "    <tr>\n",
              "      <td>3</td>\n",
              "      <td>0.606077</td>\n",
              "      <td>#na#</td>\n",
              "      <td>00:20</td>\n",
              "    </tr>\n",
              "    <tr>\n",
              "      <td>4</td>\n",
              "      <td>0.523779</td>\n",
              "      <td>#na#</td>\n",
              "      <td>00:20</td>\n",
              "    </tr>\n",
              "    <tr>\n",
              "      <td>5</td>\n",
              "      <td>0.440181</td>\n",
              "      <td>#na#</td>\n",
              "      <td>00:20</td>\n",
              "    </tr>\n",
              "    <tr>\n",
              "      <td>6</td>\n",
              "      <td>0.363069</td>\n",
              "      <td>#na#</td>\n",
              "      <td>00:20</td>\n",
              "    </tr>\n",
              "    <tr>\n",
              "      <td>7</td>\n",
              "      <td>0.317913</td>\n",
              "      <td>#na#</td>\n",
              "      <td>00:20</td>\n",
              "    </tr>\n",
              "    <tr>\n",
              "      <td>8</td>\n",
              "      <td>0.267427</td>\n",
              "      <td>#na#</td>\n",
              "      <td>00:20</td>\n",
              "    </tr>\n",
              "    <tr>\n",
              "      <td>9</td>\n",
              "      <td>0.270352</td>\n",
              "      <td>#na#</td>\n",
              "      <td>00:21</td>\n",
              "    </tr>\n",
              "  </tbody>\n",
              "</table>"
            ],
            "text/plain": [
              "<IPython.core.display.HTML object>"
            ]
          },
          "metadata": {
            "tags": []
          }
        }
      ]
    },
    {
      "cell_type": "code",
      "metadata": {
        "id": "DUd7P5mUvIKU",
        "outputId": "3b36afd3-a993-41b2-d76c-a7954ef9704e"
      },
      "source": [
        "learn.recorder.plot()"
      ],
      "execution_count": null,
      "outputs": [
        {
          "output_type": "display_data",
          "data": {
            "image/png": "[encoded data removed]",
            "text/plain": [
              "<Figure size 432x288 with 1 Axes>"
            ]
          },
          "metadata": {
            "tags": [],
            "needs_background": "light"
          }
        }
      ]
    },
    {
      "cell_type": "code",
      "metadata": {
        "id": "rZX-WGGbvIKU"
      },
      "source": [
        "learn.save('1')"
      ],
      "execution_count": null,
      "outputs": []
    },
    {
      "cell_type": "code",
      "metadata": {
        "id": "UQSRHCAivIKV"
      },
      "source": [
        "learn.load('1');"
      ],
      "execution_count": null,
      "outputs": []
    },
    {
      "cell_type": "code",
      "metadata": {
        "id": "7QuJ1JB5vIKV",
        "outputId": "eb3555b5-6403-408a-d03e-3da92e061f57"
      },
      "source": [
        "learn.fit(10, 1e-5)"
      ],
      "execution_count": null,
      "outputs": [
        {
          "output_type": "display_data",
          "data": {
            "text/html": [
              "\n",
              "    <div>\n",
              "        <style>\n",
              "            /* Turns off some styling */\n",
              "            progress {\n",
              "                /* gets rid of default border in Firefox and Opera. */\n",
              "                border: none;\n",
              "                /* Needs to be in here for Safari polyfill so background images work as expected. */\n",
              "                background-size: auto;\n",
              "            }\n",
              "            .progress-bar-interrupted, .progress-bar-interrupted::-webkit-progress-bar {\n",
              "                background: #F44336;\n",
              "            }\n",
              "        </style>\n",
              "      <progress value='0' class='' max='10', style='width:300px; height:20px; vertical-align: middle;'></progress>\n",
              "      0.00% [0/10 00:00<00:00]\n",
              "    </div>\n",
              "    \n",
              "<table border=\"1\" class=\"dataframe\">\n",
              "  <thead>\n",
              "    <tr style=\"text-align: left;\">\n",
              "      <th>epoch</th>\n",
              "      <th>train_loss</th>\n",
              "      <th>valid_loss</th>\n",
              "      <th>root_mean_squared_error</th>\n",
              "      <th>time</th>\n",
              "    </tr>\n",
              "  </thead>\n",
              "  <tbody>\n",
              "  </tbody>\n",
              "</table><p>\n",
              "\n",
              "    <div>\n",
              "        <style>\n",
              "            /* Turns off some styling */\n",
              "            progress {\n",
              "                /* gets rid of default border in Firefox and Opera. */\n",
              "                border: none;\n",
              "                /* Needs to be in here for Safari polyfill so background images work as expected. */\n",
              "                background-size: auto;\n",
              "            }\n",
              "            .progress-bar-interrupted, .progress-bar-interrupted::-webkit-progress-bar {\n",
              "                background: #F44336;\n",
              "            }\n",
              "        </style>\n",
              "      <progress value='550' class='' max='6036', style='width:300px; height:20px; vertical-align: middle;'></progress>\n",
              "      9.11% [550/6036 00:03<00:32 0.2612]\n",
              "    </div>\n",
              "    "
            ],
            "text/plain": [
              "<IPython.core.display.HTML object>"
            ]
          },
          "metadata": {
            "tags": []
          }
        },
        {
          "output_type": "error",
          "ename": "KeyboardInterrupt",
          "evalue": "",
          "traceback": [
            "\u001b[0;31m---------------------------------------------------------------------------\u001b[0m",
            "\u001b[0;31mKeyboardInterrupt\u001b[0m                         Traceback (most recent call last)",
            "\u001b[0;32m<ipython-input-33-1ff44045959b>\u001b[0m in \u001b[0;36m<module>\u001b[0;34m\u001b[0m\n\u001b[0;32m----> 1\u001b[0;31m \u001b[0mlearn\u001b[0m\u001b[0;34m.\u001b[0m\u001b[0mfit\u001b[0m\u001b[0;34m(\u001b[0m\u001b[0;36m10\u001b[0m\u001b[0;34m,\u001b[0m \u001b[0;36m1e-5\u001b[0m\u001b[0;34m)\u001b[0m\u001b[0;34m\u001b[0m\u001b[0;34m\u001b[0m\u001b[0m\n\u001b[0m",
            "\u001b[0;32m/opt/conda/lib/python3.7/site-packages/fastai/basic_train.py\u001b[0m in \u001b[0;36mfit\u001b[0;34m(self, epochs, lr, wd, callbacks)\u001b[0m\n\u001b[1;32m    198\u001b[0m         \u001b[0;32melse\u001b[0m\u001b[0;34m:\u001b[0m \u001b[0mself\u001b[0m\u001b[0;34m.\u001b[0m\u001b[0mopt\u001b[0m\u001b[0;34m.\u001b[0m\u001b[0mlr\u001b[0m\u001b[0;34m,\u001b[0m\u001b[0mself\u001b[0m\u001b[0;34m.\u001b[0m\u001b[0mopt\u001b[0m\u001b[0;34m.\u001b[0m\u001b[0mwd\u001b[0m \u001b[0;34m=\u001b[0m \u001b[0mlr\u001b[0m\u001b[0;34m,\u001b[0m\u001b[0mwd\u001b[0m\u001b[0;34m\u001b[0m\u001b[0;34m\u001b[0m\u001b[0m\n\u001b[1;32m    199\u001b[0m         \u001b[0mcallbacks\u001b[0m \u001b[0;34m=\u001b[0m \u001b[0;34m[\u001b[0m\u001b[0mcb\u001b[0m\u001b[0;34m(\u001b[0m\u001b[0mself\u001b[0m\u001b[0;34m)\u001b[0m \u001b[0;32mfor\u001b[0m \u001b[0mcb\u001b[0m \u001b[0;32min\u001b[0m \u001b[0mself\u001b[0m\u001b[0;34m.\u001b[0m\u001b[0mcallback_fns\u001b[0m \u001b[0;34m+\u001b[0m \u001b[0mlistify\u001b[0m\u001b[0;34m(\u001b[0m\u001b[0mdefaults\u001b[0m\u001b[0;34m.\u001b[0m\u001b[0mextra_callback_fns\u001b[0m\u001b[0;34m)\u001b[0m\u001b[0;34m]\u001b[0m \u001b[0;34m+\u001b[0m \u001b[0mlistify\u001b[0m\u001b[0;34m(\u001b[0m\u001b[0mcallbacks\u001b[0m\u001b[0;34m)\u001b[0m\u001b[0;34m\u001b[0m\u001b[0;34m\u001b[0m\u001b[0m\n\u001b[0;32m--> 200\u001b[0;31m         \u001b[0mfit\u001b[0m\u001b[0;34m(\u001b[0m\u001b[0mepochs\u001b[0m\u001b[0;34m,\u001b[0m \u001b[0mself\u001b[0m\u001b[0;34m,\u001b[0m \u001b[0mmetrics\u001b[0m\u001b[0;34m=\u001b[0m\u001b[0mself\u001b[0m\u001b[0;34m.\u001b[0m\u001b[0mmetrics\u001b[0m\u001b[0;34m,\u001b[0m \u001b[0mcallbacks\u001b[0m\u001b[0;34m=\u001b[0m\u001b[0mself\u001b[0m\u001b[0;34m.\u001b[0m\u001b[0mcallbacks\u001b[0m\u001b[0;34m+\u001b[0m\u001b[0mcallbacks\u001b[0m\u001b[0;34m)\u001b[0m\u001b[0;34m\u001b[0m\u001b[0;34m\u001b[0m\u001b[0m\n\u001b[0m\u001b[1;32m    201\u001b[0m \u001b[0;34m\u001b[0m\u001b[0m\n\u001b[1;32m    202\u001b[0m     \u001b[0;32mdef\u001b[0m \u001b[0mcreate_opt\u001b[0m\u001b[0;34m(\u001b[0m\u001b[0mself\u001b[0m\u001b[0;34m,\u001b[0m \u001b[0mlr\u001b[0m\u001b[0;34m:\u001b[0m\u001b[0mFloats\u001b[0m\u001b[0;34m,\u001b[0m \u001b[0mwd\u001b[0m\u001b[0;34m:\u001b[0m\u001b[0mFloats\u001b[0m\u001b[0;34m=\u001b[0m\u001b[0;36m0.\u001b[0m\u001b[0;34m)\u001b[0m\u001b[0;34m->\u001b[0m\u001b[0;32mNone\u001b[0m\u001b[0;34m:\u001b[0m\u001b[0;34m\u001b[0m\u001b[0;34m\u001b[0m\u001b[0m\n",
            "\u001b[0;32m/opt/conda/lib/python3.7/site-packages/fastai/basic_train.py\u001b[0m in \u001b[0;36mfit\u001b[0;34m(epochs, learn, callbacks, metrics)\u001b[0m\n\u001b[1;32m     99\u001b[0m             \u001b[0;32mfor\u001b[0m \u001b[0mxb\u001b[0m\u001b[0;34m,\u001b[0m\u001b[0myb\u001b[0m \u001b[0;32min\u001b[0m \u001b[0mprogress_bar\u001b[0m\u001b[0;34m(\u001b[0m\u001b[0mlearn\u001b[0m\u001b[0;34m.\u001b[0m\u001b[0mdata\u001b[0m\u001b[0;34m.\u001b[0m\u001b[0mtrain_dl\u001b[0m\u001b[0;34m,\u001b[0m \u001b[0mparent\u001b[0m\u001b[0;34m=\u001b[0m\u001b[0mpbar\u001b[0m\u001b[0;34m)\u001b[0m\u001b[0;34m:\u001b[0m\u001b[0;34m\u001b[0m\u001b[0;34m\u001b[0m\u001b[0m\n\u001b[1;32m    100\u001b[0m                 \u001b[0mxb\u001b[0m\u001b[0;34m,\u001b[0m \u001b[0myb\u001b[0m \u001b[0;34m=\u001b[0m \u001b[0mcb_handler\u001b[0m\u001b[0;34m.\u001b[0m\u001b[0mon_batch_begin\u001b[0m\u001b[0;34m(\u001b[0m\u001b[0mxb\u001b[0m\u001b[0;34m,\u001b[0m \u001b[0myb\u001b[0m\u001b[0;34m)\u001b[0m\u001b[0;34m\u001b[0m\u001b[0;34m\u001b[0m\u001b[0m\n\u001b[0;32m--> 101\u001b[0;31m                 \u001b[0mloss\u001b[0m \u001b[0;34m=\u001b[0m \u001b[0mloss_batch\u001b[0m\u001b[0;34m(\u001b[0m\u001b[0mlearn\u001b[0m\u001b[0;34m.\u001b[0m\u001b[0mmodel\u001b[0m\u001b[0;34m,\u001b[0m \u001b[0mxb\u001b[0m\u001b[0;34m,\u001b[0m \u001b[0myb\u001b[0m\u001b[0;34m,\u001b[0m \u001b[0mlearn\u001b[0m\u001b[0;34m.\u001b[0m\u001b[0mloss_func\u001b[0m\u001b[0;34m,\u001b[0m \u001b[0mlearn\u001b[0m\u001b[0;34m.\u001b[0m\u001b[0mopt\u001b[0m\u001b[0;34m,\u001b[0m \u001b[0mcb_handler\u001b[0m\u001b[0;34m)\u001b[0m\u001b[0;34m\u001b[0m\u001b[0;34m\u001b[0m\u001b[0m\n\u001b[0m\u001b[1;32m    102\u001b[0m                 \u001b[0;32mif\u001b[0m \u001b[0mcb_handler\u001b[0m\u001b[0;34m.\u001b[0m\u001b[0mon_batch_end\u001b[0m\u001b[0;34m(\u001b[0m\u001b[0mloss\u001b[0m\u001b[0;34m)\u001b[0m\u001b[0;34m:\u001b[0m \u001b[0;32mbreak\u001b[0m\u001b[0;34m\u001b[0m\u001b[0;34m\u001b[0m\u001b[0m\n\u001b[1;32m    103\u001b[0m \u001b[0;34m\u001b[0m\u001b[0m\n",
            "\u001b[0;32m/opt/conda/lib/python3.7/site-packages/fastai/basic_train.py\u001b[0m in \u001b[0;36mloss_batch\u001b[0;34m(model, xb, yb, loss_func, opt, cb_handler)\u001b[0m\n\u001b[1;32m     34\u001b[0m         \u001b[0;32mif\u001b[0m \u001b[0;32mnot\u001b[0m \u001b[0mskip_bwd\u001b[0m\u001b[0;34m:\u001b[0m                     \u001b[0mloss\u001b[0m\u001b[0;34m.\u001b[0m\u001b[0mbackward\u001b[0m\u001b[0;34m(\u001b[0m\u001b[0;34m)\u001b[0m\u001b[0;34m\u001b[0m\u001b[0;34m\u001b[0m\u001b[0m\n\u001b[1;32m     35\u001b[0m         \u001b[0;32mif\u001b[0m \u001b[0;32mnot\u001b[0m \u001b[0mcb_handler\u001b[0m\u001b[0;34m.\u001b[0m\u001b[0mon_backward_end\u001b[0m\u001b[0;34m(\u001b[0m\u001b[0;34m)\u001b[0m\u001b[0;34m:\u001b[0m \u001b[0mopt\u001b[0m\u001b[0;34m.\u001b[0m\u001b[0mstep\u001b[0m\u001b[0;34m(\u001b[0m\u001b[0;34m)\u001b[0m\u001b[0;34m\u001b[0m\u001b[0;34m\u001b[0m\u001b[0m\n\u001b[0;32m---> 36\u001b[0;31m         \u001b[0;32mif\u001b[0m \u001b[0;32mnot\u001b[0m \u001b[0mcb_handler\u001b[0m\u001b[0;34m.\u001b[0m\u001b[0mon_step_end\u001b[0m\u001b[0;34m(\u001b[0m\u001b[0;34m)\u001b[0m\u001b[0;34m:\u001b[0m     \u001b[0mopt\u001b[0m\u001b[0;34m.\u001b[0m\u001b[0mzero_grad\u001b[0m\u001b[0;34m(\u001b[0m\u001b[0;34m)\u001b[0m\u001b[0;34m\u001b[0m\u001b[0;34m\u001b[0m\u001b[0m\n\u001b[0m\u001b[1;32m     37\u001b[0m \u001b[0;34m\u001b[0m\u001b[0m\n\u001b[1;32m     38\u001b[0m     \u001b[0;32mreturn\u001b[0m \u001b[0mloss\u001b[0m\u001b[0;34m.\u001b[0m\u001b[0mdetach\u001b[0m\u001b[0;34m(\u001b[0m\u001b[0;34m)\u001b[0m\u001b[0;34m.\u001b[0m\u001b[0mcpu\u001b[0m\u001b[0;34m(\u001b[0m\u001b[0;34m)\u001b[0m\u001b[0;34m\u001b[0m\u001b[0;34m\u001b[0m\u001b[0m\n",
            "\u001b[0;32m/opt/conda/lib/python3.7/site-packages/fastai/callback.py\u001b[0m in \u001b[0;36mzero_grad\u001b[0;34m(self)\u001b[0m\n\u001b[1;32m     59\u001b[0m     \u001b[0;32mdef\u001b[0m \u001b[0mzero_grad\u001b[0m\u001b[0;34m(\u001b[0m\u001b[0mself\u001b[0m\u001b[0;34m)\u001b[0m\u001b[0;34m->\u001b[0m\u001b[0;32mNone\u001b[0m\u001b[0;34m:\u001b[0m\u001b[0;34m\u001b[0m\u001b[0;34m\u001b[0m\u001b[0m\n\u001b[1;32m     60\u001b[0m         \u001b[0;34m\"Clear optimizer gradients.\"\u001b[0m\u001b[0;34m\u001b[0m\u001b[0;34m\u001b[0m\u001b[0m\n\u001b[0;32m---> 61\u001b[0;31m         \u001b[0mself\u001b[0m\u001b[0;34m.\u001b[0m\u001b[0mopt\u001b[0m\u001b[0;34m.\u001b[0m\u001b[0mzero_grad\u001b[0m\u001b[0;34m(\u001b[0m\u001b[0;34m)\u001b[0m\u001b[0;34m\u001b[0m\u001b[0;34m\u001b[0m\u001b[0m\n\u001b[0m\u001b[1;32m     62\u001b[0m \u001b[0;34m\u001b[0m\u001b[0m\n\u001b[1;32m     63\u001b[0m     \u001b[0;31m#Passthrough to the inner opt.\u001b[0m\u001b[0;34m\u001b[0m\u001b[0;34m\u001b[0m\u001b[0;34m\u001b[0m\u001b[0m\n",
            "\u001b[0;32m/opt/conda/lib/python3.7/site-packages/torch/optim/optimizer.py\u001b[0m in \u001b[0;36mzero_grad\u001b[0;34m(self)\u001b[0m\n\u001b[1;32m    163\u001b[0m                 \u001b[0;32mif\u001b[0m \u001b[0mp\u001b[0m\u001b[0;34m.\u001b[0m\u001b[0mgrad\u001b[0m \u001b[0;32mis\u001b[0m \u001b[0;32mnot\u001b[0m \u001b[0;32mNone\u001b[0m\u001b[0;34m:\u001b[0m\u001b[0;34m\u001b[0m\u001b[0;34m\u001b[0m\u001b[0m\n\u001b[1;32m    164\u001b[0m                     \u001b[0mp\u001b[0m\u001b[0;34m.\u001b[0m\u001b[0mgrad\u001b[0m\u001b[0;34m.\u001b[0m\u001b[0mdetach_\u001b[0m\u001b[0;34m(\u001b[0m\u001b[0;34m)\u001b[0m\u001b[0;34m\u001b[0m\u001b[0;34m\u001b[0m\u001b[0m\n\u001b[0;32m--> 165\u001b[0;31m                     \u001b[0mp\u001b[0m\u001b[0;34m.\u001b[0m\u001b[0mgrad\u001b[0m\u001b[0;34m.\u001b[0m\u001b[0mzero_\u001b[0m\u001b[0;34m(\u001b[0m\u001b[0;34m)\u001b[0m\u001b[0;34m\u001b[0m\u001b[0;34m\u001b[0m\u001b[0m\n\u001b[0m\u001b[1;32m    166\u001b[0m \u001b[0;34m\u001b[0m\u001b[0m\n\u001b[1;32m    167\u001b[0m     \u001b[0;32mdef\u001b[0m \u001b[0mstep\u001b[0m\u001b[0;34m(\u001b[0m\u001b[0mself\u001b[0m\u001b[0;34m,\u001b[0m \u001b[0mclosure\u001b[0m\u001b[0;34m)\u001b[0m\u001b[0;34m:\u001b[0m\u001b[0;34m\u001b[0m\u001b[0;34m\u001b[0m\u001b[0m\n",
            "\u001b[0;31mKeyboardInterrupt\u001b[0m: "
          ]
        }
      ]
    },
    {
      "cell_type": "code",
      "metadata": {
        "id": "sqto2NsYvIKV"
      },
      "source": [
        "learn.export()"
      ],
      "execution_count": null,
      "outputs": []
    },
    {
      "cell_type": "code",
      "metadata": {
        "id": "rL_wcagWvIKV",
        "outputId": "8bb27c8b-98d8-4cd9-c0e3-1fb6ec6be016"
      },
      "source": [
        "np.mean(df[dep_var])"
      ],
      "execution_count": null,
      "outputs": [
        {
          "output_type": "execute_result",
          "data": {
            "text/plain": [
              "7.929026609861057"
            ]
          },
          "metadata": {
            "tags": []
          },
          "execution_count": 31
        }
      ]
    },
    {
      "cell_type": "code",
      "metadata": {
        "id": "jfG-cARJvIKW"
      },
      "source": [
        "a=DataFrame(df[df[dep_var]!=0])\n",
        "# a=copy_df"
      ],
      "execution_count": null,
      "outputs": []
    },
    {
      "cell_type": "code",
      "metadata": {
        "id": "alO4MxLcvIKW"
      },
      "source": [
        "b=a.index.values.tolist()"
      ],
      "execution_count": null,
      "outputs": []
    },
    {
      "cell_type": "code",
      "metadata": {
        "id": "4qymQdyuvIKW",
        "outputId": "46df700d-8962-4a68-d114-43abf0a64311"
      },
      "source": [
        "len(a)"
      ],
      "execution_count": null,
      "outputs": [
        {
          "output_type": "execute_result",
          "data": {
            "text/plain": [
              "207387"
            ]
          },
          "metadata": {
            "tags": []
          },
          "execution_count": 365
        }
      ]
    },
    {
      "cell_type": "code",
      "metadata": {
        "scrolled": false,
        "id": "gbABpRhXvIKW"
      },
      "source": [
        "percenterror=[]\n",
        "actual=[]\n",
        "predictions=[]\n",
        "day=[]\n",
        "hour=[]\n",
        "for i in range(int(200)):\n",
        "     num=abs(learn.predict(a.T[b[i]])[0].obj-a[dep_var][b[i]]*100)*100/(a[dep_var][b[i]]*100)\n",
        "#         print(num)\n",
        "     percenterror.append(num.item())\n",
        "     actual.append(a[dep_var][b[i]]*100)\n",
        "     predictions.append(learn.predict(a.T[b[i]])[0].obj.item())\n",
        "     day.append(int(a.T[b[i]]['Day']))\n",
        "     hour.append(int(a.T[b[i]]['Hour']))\n",
        "        \n",
        "#     print((b[i]==index))\n",
        "    "
      ],
      "execution_count": null,
      "outputs": []
    },
    {
      "cell_type": "code",
      "metadata": {
        "id": "54mIWGk-vIKW",
        "outputId": "1fd7a37d-10cd-4655-e344-bd44dcb5340f"
      },
      "source": [
        "plt.plot(predictions[:100])"
      ],
      "execution_count": null,
      "outputs": [
        {
          "output_type": "execute_result",
          "data": {
            "text/plain": [
              "[<matplotlib.lines.Line2D at 0x7fc4fdd95d50>]"
            ]
          },
          "metadata": {
            "tags": []
          },
          "execution_count": 367
        },
        {
          "output_type": "display_data",
          "data": {
            "image/png": "[encoded data removed]",
            "text/plain": [
              "<Figure size 432x288 with 1 Axes>"
            ]
          },
          "metadata": {
            "tags": [],
            "needs_background": "light"
          }
        }
      ]
    },
    {
      "cell_type": "code",
      "metadata": {
        "id": "WTO3Wp5kvIKX",
        "outputId": "ba1207fb-acbd-4818-8e7c-fad77f360c55"
      },
      "source": [
        "plt.plot(actual[:100])"
      ],
      "execution_count": null,
      "outputs": [
        {
          "output_type": "execute_result",
          "data": {
            "text/plain": [
              "[<matplotlib.lines.Line2D at 0x7fc491f72e50>]"
            ]
          },
          "metadata": {
            "tags": []
          },
          "execution_count": 368
        },
        {
          "output_type": "display_data",
          "data": {
            "image/png": "[encoded data removed]",
            "text/plain": [
              "<Figure size 432x288 with 1 Axes>"
            ]
          },
          "metadata": {
            "tags": [],
            "needs_background": "light"
          }
        }
      ]
    },
    {
      "cell_type": "code",
      "metadata": {
        "id": "G3bhk_cdvIKX",
        "outputId": "4d7d5c7b-7189-44a0-b81a-91a58873eb01"
      },
      "source": [
        "plt.legend(plt.plot(actual),plt.plot(predictions))"
      ],
      "execution_count": null,
      "outputs": [
        {
          "output_type": "execute_result",
          "data": {
            "text/plain": [
              "<matplotlib.legend.Legend at 0x7fc5a6935a50>"
            ]
          },
          "metadata": {
            "tags": []
          },
          "execution_count": 313
        },
        {
          "output_type": "display_data",
          "data": {
            "image/png": "[encoded data removed]",
            "text/plain": [
              "<Figure size 432x288 with 1 Axes>"
            ]
          },
          "metadata": {
            "tags": [],
            "needs_background": "light"
          }
        }
      ]
    },
    {
      "cell_type": "code",
      "metadata": {
        "id": "md6iG9ezvIKX",
        "outputId": "bc8f48c7-5643-44f2-b023-98420481e2e0"
      },
      "source": [
        "type(int(a.T[b[0]]['Hour']))"
      ],
      "execution_count": null,
      "outputs": [
        {
          "output_type": "execute_result",
          "data": {
            "text/plain": [
              "int"
            ]
          },
          "metadata": {
            "tags": []
          },
          "execution_count": 54
        }
      ]
    },
    {
      "cell_type": "code",
      "metadata": {
        "id": "Om4OQp4-vIKX"
      },
      "source": [
        "pd.DataFrame((day,hour,predictions,actual,percenterror)).T.to_excel('Results_copy.xls')"
      ],
      "execution_count": null,
      "outputs": []
    },
    {
      "cell_type": "code",
      "metadata": {
        "id": "nofhQGHjvIKY"
      },
      "source": [
        ""
      ],
      "execution_count": null,
      "outputs": []
    }
  ]
}